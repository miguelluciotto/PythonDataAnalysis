{
 "cells": [
  {
   "cell_type": "markdown",
   "metadata": {},
   "source": [
    "# Introducción al Analisis de Datos con Python"
   ]
  },
  {
   "cell_type": "code",
   "execution_count": 1,
   "metadata": {},
   "outputs": [
    {
     "name": "stdout",
     "output_type": "stream",
     "text": [
      "Hello World\n"
     ]
    }
   ],
   "source": [
    "print('Hello World')"
   ]
  },
  {
   "cell_type": "code",
   "execution_count": 46,
   "metadata": {},
   "outputs": [
    {
     "name": "stdout",
     "output_type": "stream",
     "text": [
      "Hi Miguel :)\n"
     ]
    }
   ],
   "source": [
    "name = input('Please display your name: ')\n",
    "print(f'Hi {name} :)')"
   ]
  },
  {
   "cell_type": "code",
   "execution_count": 13,
   "metadata": {},
   "outputs": [
    {
     "name": "stdout",
     "output_type": "stream",
     "text": [
      "False\n"
     ]
    }
   ],
   "source": [
    "x = int(input('Please display the number 5: '))\n",
    "if x == 5:\n",
    "    print(True)\n",
    "else:\n",
    "    print(False)"
   ]
  },
  {
   "cell_type": "markdown",
   "metadata": {},
   "source": [
    "# Variables y Tipos de Datos"
   ]
  },
  {
   "cell_type": "markdown",
   "metadata": {},
   "source": [
    "## Dictionaries"
   ]
  },
  {
   "cell_type": "code",
   "execution_count": 43,
   "metadata": {},
   "outputs": [
    {
     "name": "stdout",
     "output_type": "stream",
     "text": [
      "dict_keys(['name', 'age', 'career'])\n",
      "dict_keys(['name', 'age', 'career'])\n",
      "dict_values(['Miguel', 23, 'Data Analyst'])\n",
      "dict_items([('name', 'Miguel'), ('age', 23), ('career', 'Data Analyst')])\n"
     ]
    }
   ],
   "source": [
    "worker = {'name': 'Miguel',\n",
    "           'age': 23,\n",
    "           'career': 'Data Analyst'}\n",
    "\n",
    "print(worker.keys())\n",
    "print(worker.values())\n",
    "print(worker.items())"
   ]
  },
  {
   "cell_type": "code",
   "execution_count": 45,
   "metadata": {},
   "outputs": [
    {
     "name": "stdout",
     "output_type": "stream",
     "text": [
      "name Miguel\n",
      "age 23\n",
      "career Engineer\n"
     ]
    }
   ],
   "source": [
    "client = {'name': 'Miguel',\n",
    "          'age': 23,\n",
    "          'career': 'Engineer'}\n",
    "\n",
    "for i, j in client.items():\n",
    "    print(i, j)"
   ]
  },
  {
   "cell_type": "markdown",
   "metadata": {},
   "source": [
    "## Lists"
   ]
  },
  {
   "cell_type": "code",
   "execution_count": 31,
   "metadata": {},
   "outputs": [
    {
     "name": "stdout",
     "output_type": "stream",
     "text": [
      "b\n",
      "['bee', 'car', 'doodle', 'elephant', 'fox', 'google', [1, 2, 3, ['a', 'b', 'c']]]\n"
     ]
    }
   ],
   "source": [
    "lista = ['apple', 'bee', 'car', 'doodle', 'elephant', 'fox', 'google', \n",
    "         [1, 2, 3, ['a', 'b', 'c']], 'hen']\n",
    "\n",
    "print(lista[-2][-1][1])\n",
    "print(lista[1:-1])"
   ]
  },
  {
   "cell_type": "code",
   "execution_count": 3,
   "metadata": {},
   "outputs": [
    {
     "name": "stdout",
     "output_type": "stream",
     "text": [
      "Welcome to Amazon Shopping!\n",
      "Your books selection's the following: ['a little life', 'pride and prejudice', 'all the lovers in the night']\n",
      "Thank you for your purchase >:)\n"
     ]
    }
   ],
   "source": [
    "shopping_list = []\n",
    "print('Welcome to Amazon Shopping!')\n",
    "while True:\n",
    "    choice = input(\"Would you like to add an item to your list [y/n]? \")\n",
    "    if choice.lower() == 'y':\n",
    "        book = input('Which book would you like to add to your list? ')\n",
    "        shopping_list.append(book.lower())\n",
    "    elif choice.lower() == 'n':\n",
    "        print(f\"Your books selection's the following: {shopping_list}\")\n",
    "        print('Thank you for your purchase >:)')\n",
    "        break\n",
    "    else:\n",
    "        print(\"Sorry, I couldn't understand your request :(\")"
   ]
  },
  {
   "cell_type": "code",
   "execution_count": null,
   "metadata": {},
   "outputs": [],
   "source": []
  }
 ],
 "metadata": {
  "kernelspec": {
   "display_name": "Python 3",
   "language": "python",
   "name": "python3"
  },
  "language_info": {
   "codemirror_mode": {
    "name": "ipython",
    "version": 3
   },
   "file_extension": ".py",
   "mimetype": "text/x-python",
   "name": "python",
   "nbconvert_exporter": "python",
   "pygments_lexer": "ipython3",
   "version": "3.10.13"
  }
 },
 "nbformat": 4,
 "nbformat_minor": 2
}
